{
 "cells": [
  {
   "cell_type": "markdown",
   "source": [
    "# Mushroom Classification"
   ],
   "metadata": {
    "id": "cPzD7D7P4_30"
   }
  },
  {
   "cell_type": "markdown",
   "source": [
    "In this project, we will determine if a mushroom is **edible** or **poisonous** by its specification.\n",
    "The dataset for this project is stored in **\"mushroom.csv\"** file.\n",
    "The dataset contain **8124** entries and have 23 features. The description of the features are in the **feature_description.pdf** file.\n",
    "The dataset is made available by UCI MAchine Learning.\n",
    "\n",
    "\n",
    "\n",
    "\n"
   ],
   "metadata": {
    "id": "quFOK_SFqkjS"
   }
  },
  {
   "cell_type": "code",
   "execution_count": 1,
   "source": [
    "import pandas as pd\r\n",
    "from sklearn.model_selection import train_test_split\r\n",
    "from sklearn.preprocessing import LabelEncoder\r\n",
    "from sklearn.tree import DecisionTreeClassifier\r\n",
    "from sklearn.ensemble import RandomForestClassifier\r\n",
    "from sklearn.naive_bayes import GaussianNB\r\n",
    "from sklearn.linear_model import LogisticRegression\r\n",
    "from sklearn.svm import SVC\r\n",
    "from sklearn.neighbors import KNeighborsClassifier\r\n",
    "from sklearn.metrics import classification_report, accuracy_score\r\n",
    "import matplotlib.pyplot as plt\r\n",
    "import seaborn as sns\r\n",
    "import numpy as np\r\n",
    "import warnings\r\n",
    "\r\n",
    "warnings.filterwarnings('ignore')\r\n",
    "\r\n"
   ],
   "outputs": [],
   "metadata": {
    "id": "5-hG3CTcewcZ"
   }
  },
  {
   "cell_type": "markdown",
   "source": [
    "Read the csv file.\n",
    "read_csv() function of pandas library will read the csv file "
   ],
   "metadata": {
    "id": "70pDaMbZrs9u"
   }
  },
  {
   "cell_type": "code",
   "execution_count": 2,
   "source": [
    "\r\n",
    "data = pd.read_csv(\"../data/raw/mushrooms.csv\")\r\n"
   ],
   "outputs": [],
   "metadata": {
    "id": "-dGx7TkVewcf"
   }
  },
  {
   "cell_type": "markdown",
   "source": [
    "# Examine the dataset"
   ],
   "metadata": {
    "id": "BGE3KHwZ49Kg"
   }
  },
  {
   "cell_type": "markdown",
   "source": [
    "Let's examine the dataset with the help of **head(), info(), describe()** methods."
   ],
   "metadata": {
    "id": "bdkiAjYy5LoC"
   }
  },
  {
   "cell_type": "code",
   "execution_count": 27,
   "source": [
    "data.head()"
   ],
   "outputs": [
    {
     "output_type": "execute_result",
     "data": {
      "text/html": [
       "<div>\n",
       "<style scoped>\n",
       "    .dataframe tbody tr th:only-of-type {\n",
       "        vertical-align: middle;\n",
       "    }\n",
       "\n",
       "    .dataframe tbody tr th {\n",
       "        vertical-align: top;\n",
       "    }\n",
       "\n",
       "    .dataframe thead th {\n",
       "        text-align: right;\n",
       "    }\n",
       "</style>\n",
       "<table border=\"1\" class=\"dataframe\">\n",
       "  <thead>\n",
       "    <tr style=\"text-align: right;\">\n",
       "      <th></th>\n",
       "      <th>class</th>\n",
       "      <th>cap-shape</th>\n",
       "      <th>cap-surface</th>\n",
       "      <th>cap-color</th>\n",
       "      <th>bruises</th>\n",
       "      <th>odor</th>\n",
       "      <th>gill-attachment</th>\n",
       "      <th>gill-spacing</th>\n",
       "      <th>gill-size</th>\n",
       "      <th>gill-color</th>\n",
       "      <th>...</th>\n",
       "      <th>stalk-surface-below-ring</th>\n",
       "      <th>stalk-color-above-ring</th>\n",
       "      <th>stalk-color-below-ring</th>\n",
       "      <th>veil-type</th>\n",
       "      <th>veil-color</th>\n",
       "      <th>ring-number</th>\n",
       "      <th>ring-type</th>\n",
       "      <th>spore-print-color</th>\n",
       "      <th>population</th>\n",
       "      <th>habitat</th>\n",
       "    </tr>\n",
       "  </thead>\n",
       "  <tbody>\n",
       "    <tr>\n",
       "      <th>0</th>\n",
       "      <td>p</td>\n",
       "      <td>x</td>\n",
       "      <td>s</td>\n",
       "      <td>n</td>\n",
       "      <td>t</td>\n",
       "      <td>p</td>\n",
       "      <td>f</td>\n",
       "      <td>c</td>\n",
       "      <td>n</td>\n",
       "      <td>k</td>\n",
       "      <td>...</td>\n",
       "      <td>s</td>\n",
       "      <td>w</td>\n",
       "      <td>w</td>\n",
       "      <td>p</td>\n",
       "      <td>w</td>\n",
       "      <td>o</td>\n",
       "      <td>p</td>\n",
       "      <td>k</td>\n",
       "      <td>s</td>\n",
       "      <td>u</td>\n",
       "    </tr>\n",
       "    <tr>\n",
       "      <th>1</th>\n",
       "      <td>e</td>\n",
       "      <td>x</td>\n",
       "      <td>s</td>\n",
       "      <td>y</td>\n",
       "      <td>t</td>\n",
       "      <td>a</td>\n",
       "      <td>f</td>\n",
       "      <td>c</td>\n",
       "      <td>b</td>\n",
       "      <td>k</td>\n",
       "      <td>...</td>\n",
       "      <td>s</td>\n",
       "      <td>w</td>\n",
       "      <td>w</td>\n",
       "      <td>p</td>\n",
       "      <td>w</td>\n",
       "      <td>o</td>\n",
       "      <td>p</td>\n",
       "      <td>n</td>\n",
       "      <td>n</td>\n",
       "      <td>g</td>\n",
       "    </tr>\n",
       "    <tr>\n",
       "      <th>2</th>\n",
       "      <td>e</td>\n",
       "      <td>b</td>\n",
       "      <td>s</td>\n",
       "      <td>w</td>\n",
       "      <td>t</td>\n",
       "      <td>l</td>\n",
       "      <td>f</td>\n",
       "      <td>c</td>\n",
       "      <td>b</td>\n",
       "      <td>n</td>\n",
       "      <td>...</td>\n",
       "      <td>s</td>\n",
       "      <td>w</td>\n",
       "      <td>w</td>\n",
       "      <td>p</td>\n",
       "      <td>w</td>\n",
       "      <td>o</td>\n",
       "      <td>p</td>\n",
       "      <td>n</td>\n",
       "      <td>n</td>\n",
       "      <td>m</td>\n",
       "    </tr>\n",
       "    <tr>\n",
       "      <th>3</th>\n",
       "      <td>p</td>\n",
       "      <td>x</td>\n",
       "      <td>y</td>\n",
       "      <td>w</td>\n",
       "      <td>t</td>\n",
       "      <td>p</td>\n",
       "      <td>f</td>\n",
       "      <td>c</td>\n",
       "      <td>n</td>\n",
       "      <td>n</td>\n",
       "      <td>...</td>\n",
       "      <td>s</td>\n",
       "      <td>w</td>\n",
       "      <td>w</td>\n",
       "      <td>p</td>\n",
       "      <td>w</td>\n",
       "      <td>o</td>\n",
       "      <td>p</td>\n",
       "      <td>k</td>\n",
       "      <td>s</td>\n",
       "      <td>u</td>\n",
       "    </tr>\n",
       "    <tr>\n",
       "      <th>4</th>\n",
       "      <td>e</td>\n",
       "      <td>x</td>\n",
       "      <td>s</td>\n",
       "      <td>g</td>\n",
       "      <td>f</td>\n",
       "      <td>n</td>\n",
       "      <td>f</td>\n",
       "      <td>w</td>\n",
       "      <td>b</td>\n",
       "      <td>k</td>\n",
       "      <td>...</td>\n",
       "      <td>s</td>\n",
       "      <td>w</td>\n",
       "      <td>w</td>\n",
       "      <td>p</td>\n",
       "      <td>w</td>\n",
       "      <td>o</td>\n",
       "      <td>e</td>\n",
       "      <td>n</td>\n",
       "      <td>a</td>\n",
       "      <td>g</td>\n",
       "    </tr>\n",
       "  </tbody>\n",
       "</table>\n",
       "<p>5 rows × 23 columns</p>\n",
       "</div>"
      ],
      "text/plain": [
       "  class cap-shape cap-surface cap-color bruises odor gill-attachment  \\\n",
       "0     p         x           s         n       t    p               f   \n",
       "1     e         x           s         y       t    a               f   \n",
       "2     e         b           s         w       t    l               f   \n",
       "3     p         x           y         w       t    p               f   \n",
       "4     e         x           s         g       f    n               f   \n",
       "\n",
       "  gill-spacing gill-size gill-color  ... stalk-surface-below-ring  \\\n",
       "0            c         n          k  ...                        s   \n",
       "1            c         b          k  ...                        s   \n",
       "2            c         b          n  ...                        s   \n",
       "3            c         n          n  ...                        s   \n",
       "4            w         b          k  ...                        s   \n",
       "\n",
       "  stalk-color-above-ring stalk-color-below-ring veil-type veil-color  \\\n",
       "0                      w                      w         p          w   \n",
       "1                      w                      w         p          w   \n",
       "2                      w                      w         p          w   \n",
       "3                      w                      w         p          w   \n",
       "4                      w                      w         p          w   \n",
       "\n",
       "  ring-number ring-type spore-print-color population habitat  \n",
       "0           o         p                 k          s       u  \n",
       "1           o         p                 n          n       g  \n",
       "2           o         p                 n          n       m  \n",
       "3           o         p                 k          s       u  \n",
       "4           o         e                 n          a       g  \n",
       "\n",
       "[5 rows x 23 columns]"
      ]
     },
     "metadata": {},
     "execution_count": 27
    }
   ],
   "metadata": {
    "colab": {
     "base_uri": "https://localhost:8080/",
     "height": 274
    },
    "id": "7HQVmB5dnvuM",
    "outputId": "fc109c6d-d36e-40cc-8172-3d6c9efe8d41"
   }
  },
  {
   "cell_type": "code",
   "execution_count": 4,
   "source": [
    "data.info()\r\n"
   ],
   "outputs": [
    {
     "output_type": "stream",
     "name": "stdout",
     "text": [
      "<class 'pandas.core.frame.DataFrame'>\n",
      "RangeIndex: 8124 entries, 0 to 8123\n",
      "Data columns (total 23 columns):\n",
      " #   Column                    Non-Null Count  Dtype \n",
      "---  ------                    --------------  ----- \n",
      " 0   class                     8124 non-null   object\n",
      " 1   cap-shape                 8124 non-null   object\n",
      " 2   cap-surface               8124 non-null   object\n",
      " 3   cap-color                 8124 non-null   object\n",
      " 4   bruises                   8124 non-null   object\n",
      " 5   odor                      8124 non-null   object\n",
      " 6   gill-attachment           8124 non-null   object\n",
      " 7   gill-spacing              8124 non-null   object\n",
      " 8   gill-size                 8124 non-null   object\n",
      " 9   gill-color                8124 non-null   object\n",
      " 10  stalk-shape               8124 non-null   object\n",
      " 11  stalk-root                8124 non-null   object\n",
      " 12  stalk-surface-above-ring  8124 non-null   object\n",
      " 13  stalk-surface-below-ring  8124 non-null   object\n",
      " 14  stalk-color-above-ring    8124 non-null   object\n",
      " 15  stalk-color-below-ring    8124 non-null   object\n",
      " 16  veil-type                 8124 non-null   object\n",
      " 17  veil-color                8124 non-null   object\n",
      " 18  ring-number               8124 non-null   object\n",
      " 19  ring-type                 8124 non-null   object\n",
      " 20  spore-print-color         8124 non-null   object\n",
      " 21  population                8124 non-null   object\n",
      " 22  habitat                   8124 non-null   object\n",
      "dtypes: object(23)\n",
      "memory usage: 1.4+ MB\n"
     ]
    }
   ],
   "metadata": {
    "colab": {
     "base_uri": "https://localhost:8080/"
    },
    "id": "1Q-_7fzaph7e",
    "outputId": "a55a2c82-80d8-4251-82c6-588bebfd1539"
   }
  },
  {
   "cell_type": "code",
   "execution_count": 5,
   "source": [
    "data.describe()"
   ],
   "outputs": [
    {
     "output_type": "execute_result",
     "data": {
      "text/html": [
       "<div>\n",
       "<style scoped>\n",
       "    .dataframe tbody tr th:only-of-type {\n",
       "        vertical-align: middle;\n",
       "    }\n",
       "\n",
       "    .dataframe tbody tr th {\n",
       "        vertical-align: top;\n",
       "    }\n",
       "\n",
       "    .dataframe thead th {\n",
       "        text-align: right;\n",
       "    }\n",
       "</style>\n",
       "<table border=\"1\" class=\"dataframe\">\n",
       "  <thead>\n",
       "    <tr style=\"text-align: right;\">\n",
       "      <th></th>\n",
       "      <th>class</th>\n",
       "      <th>cap-shape</th>\n",
       "      <th>cap-surface</th>\n",
       "      <th>cap-color</th>\n",
       "      <th>bruises</th>\n",
       "      <th>odor</th>\n",
       "      <th>gill-attachment</th>\n",
       "      <th>gill-spacing</th>\n",
       "      <th>gill-size</th>\n",
       "      <th>gill-color</th>\n",
       "      <th>...</th>\n",
       "      <th>stalk-surface-below-ring</th>\n",
       "      <th>stalk-color-above-ring</th>\n",
       "      <th>stalk-color-below-ring</th>\n",
       "      <th>veil-type</th>\n",
       "      <th>veil-color</th>\n",
       "      <th>ring-number</th>\n",
       "      <th>ring-type</th>\n",
       "      <th>spore-print-color</th>\n",
       "      <th>population</th>\n",
       "      <th>habitat</th>\n",
       "    </tr>\n",
       "  </thead>\n",
       "  <tbody>\n",
       "    <tr>\n",
       "      <th>count</th>\n",
       "      <td>8124</td>\n",
       "      <td>8124</td>\n",
       "      <td>8124</td>\n",
       "      <td>8124</td>\n",
       "      <td>8124</td>\n",
       "      <td>8124</td>\n",
       "      <td>8124</td>\n",
       "      <td>8124</td>\n",
       "      <td>8124</td>\n",
       "      <td>8124</td>\n",
       "      <td>...</td>\n",
       "      <td>8124</td>\n",
       "      <td>8124</td>\n",
       "      <td>8124</td>\n",
       "      <td>8124</td>\n",
       "      <td>8124</td>\n",
       "      <td>8124</td>\n",
       "      <td>8124</td>\n",
       "      <td>8124</td>\n",
       "      <td>8124</td>\n",
       "      <td>8124</td>\n",
       "    </tr>\n",
       "    <tr>\n",
       "      <th>unique</th>\n",
       "      <td>2</td>\n",
       "      <td>6</td>\n",
       "      <td>4</td>\n",
       "      <td>10</td>\n",
       "      <td>2</td>\n",
       "      <td>9</td>\n",
       "      <td>2</td>\n",
       "      <td>2</td>\n",
       "      <td>2</td>\n",
       "      <td>12</td>\n",
       "      <td>...</td>\n",
       "      <td>4</td>\n",
       "      <td>9</td>\n",
       "      <td>9</td>\n",
       "      <td>1</td>\n",
       "      <td>4</td>\n",
       "      <td>3</td>\n",
       "      <td>5</td>\n",
       "      <td>9</td>\n",
       "      <td>6</td>\n",
       "      <td>7</td>\n",
       "    </tr>\n",
       "    <tr>\n",
       "      <th>top</th>\n",
       "      <td>e</td>\n",
       "      <td>x</td>\n",
       "      <td>y</td>\n",
       "      <td>n</td>\n",
       "      <td>f</td>\n",
       "      <td>n</td>\n",
       "      <td>f</td>\n",
       "      <td>c</td>\n",
       "      <td>b</td>\n",
       "      <td>b</td>\n",
       "      <td>...</td>\n",
       "      <td>s</td>\n",
       "      <td>w</td>\n",
       "      <td>w</td>\n",
       "      <td>p</td>\n",
       "      <td>w</td>\n",
       "      <td>o</td>\n",
       "      <td>p</td>\n",
       "      <td>w</td>\n",
       "      <td>v</td>\n",
       "      <td>d</td>\n",
       "    </tr>\n",
       "    <tr>\n",
       "      <th>freq</th>\n",
       "      <td>4208</td>\n",
       "      <td>3656</td>\n",
       "      <td>3244</td>\n",
       "      <td>2284</td>\n",
       "      <td>4748</td>\n",
       "      <td>3528</td>\n",
       "      <td>7914</td>\n",
       "      <td>6812</td>\n",
       "      <td>5612</td>\n",
       "      <td>1728</td>\n",
       "      <td>...</td>\n",
       "      <td>4936</td>\n",
       "      <td>4464</td>\n",
       "      <td>4384</td>\n",
       "      <td>8124</td>\n",
       "      <td>7924</td>\n",
       "      <td>7488</td>\n",
       "      <td>3968</td>\n",
       "      <td>2388</td>\n",
       "      <td>4040</td>\n",
       "      <td>3148</td>\n",
       "    </tr>\n",
       "  </tbody>\n",
       "</table>\n",
       "<p>4 rows × 23 columns</p>\n",
       "</div>"
      ],
      "text/plain": [
       "       class cap-shape cap-surface cap-color bruises  odor gill-attachment  \\\n",
       "count   8124      8124        8124      8124    8124  8124            8124   \n",
       "unique     2         6           4        10       2     9               2   \n",
       "top        e         x           y         n       f     n               f   \n",
       "freq    4208      3656        3244      2284    4748  3528            7914   \n",
       "\n",
       "       gill-spacing gill-size gill-color  ... stalk-surface-below-ring  \\\n",
       "count          8124      8124       8124  ...                     8124   \n",
       "unique            2         2         12  ...                        4   \n",
       "top               c         b          b  ...                        s   \n",
       "freq           6812      5612       1728  ...                     4936   \n",
       "\n",
       "       stalk-color-above-ring stalk-color-below-ring veil-type veil-color  \\\n",
       "count                    8124                   8124      8124       8124   \n",
       "unique                      9                      9         1          4   \n",
       "top                         w                      w         p          w   \n",
       "freq                     4464                   4384      8124       7924   \n",
       "\n",
       "       ring-number ring-type spore-print-color population habitat  \n",
       "count         8124      8124              8124       8124    8124  \n",
       "unique           3         5                 9          6       7  \n",
       "top              o         p                 w          v       d  \n",
       "freq          7488      3968              2388       4040    3148  \n",
       "\n",
       "[4 rows x 23 columns]"
      ]
     },
     "metadata": {},
     "execution_count": 5
    }
   ],
   "metadata": {
    "colab": {
     "base_uri": "https://localhost:8080/",
     "height": 242
    },
    "id": "JBQcpWOxplPP",
    "outputId": "89bc0192-f001-4759-fcf3-ba3028cbdc26"
   }
  },
  {
   "cell_type": "code",
   "execution_count": 6,
   "source": [
    "data.shape"
   ],
   "outputs": [
    {
     "output_type": "execute_result",
     "data": {
      "text/plain": [
       "(8124, 23)"
      ]
     },
     "metadata": {},
     "execution_count": 6
    }
   ],
   "metadata": {
    "colab": {
     "base_uri": "https://localhost:8080/"
    },
    "id": "S9A5vEU05Zpn",
    "outputId": "6e7072ac-c018-4175-912f-5ebb8fbf13d3"
   }
  },
  {
   "cell_type": "markdown",
   "source": [
    "# Visualizing the label (class column)"
   ],
   "metadata": {
    "id": "tah2ig0t5Vu4"
   }
  },
  {
   "cell_type": "markdown",
   "source": [
    "Count the total number of entries and total number of unique values in the class column"
   ],
   "metadata": {
    "id": "dV-4Fyzq5umJ"
   }
  },
  {
   "cell_type": "code",
   "execution_count": 7,
   "source": [
    "count = data['class'].value_counts()"
   ],
   "outputs": [],
   "metadata": {
    "id": "s-MynIVepk67"
   }
  },
  {
   "cell_type": "code",
   "execution_count": 8,
   "source": [
    "data['class'].unique()"
   ],
   "outputs": [
    {
     "output_type": "execute_result",
     "data": {
      "text/plain": [
       "array(['p', 'e'], dtype=object)"
      ]
     },
     "metadata": {},
     "execution_count": 8
    }
   ],
   "metadata": {
    "colab": {
     "base_uri": "https://localhost:8080/"
    },
    "id": "yihEDfmAp5Kt",
    "outputId": "8fa58621-386a-49b2-bee5-661b11f13df9"
   }
  },
  {
   "cell_type": "markdown",
   "source": [
    "Plot the count of \"class\" column "
   ],
   "metadata": {
    "id": "71QB5kL86yLu"
   }
  },
  {
   "cell_type": "code",
   "execution_count": 9,
   "source": [
    "plt.figure(figsize=(10, 8))\n",
    "sns.barplot(x=count.index, y=count.values)\n",
    "plt.xlabel('Mushroom Class', fontsize=12)\n",
    "plt.ylabel('Mushroom Count', fontsize=12)\n",
    "# plt.savefig('labelcount.png', format='png', dpi=900)\n",
    "plt.show()"
   ],
   "outputs": [
    {
     "output_type": "display_data",
     "data": {
      "image/png": "[encoded data removed]",
      "text/plain": [
       "<Figure size 720x576 with 1 Axes>"
      ]
     },
     "metadata": {
      "needs_background": "light"
     }
    }
   ],
   "metadata": {
    "colab": {
     "base_uri": "https://localhost:8080/",
     "height": 500
    },
    "id": "jI8n3ckXp9wp",
    "outputId": "d2ccafc0-289f-4986-9cc6-c1bd74c671d0"
   }
  },
  {
   "cell_type": "markdown",
   "source": [
    "dataset is balanced"
   ],
   "metadata": {
    "id": "e98k5zpA82Pm"
   }
  },
  {
   "cell_type": "markdown",
   "source": [
    "# Data Manipulation"
   ],
   "metadata": {
    "id": "nwDrK7ow85E9"
   }
  },
  {
   "cell_type": "markdown",
   "source": [
    "All of the data is of \"object type\". So, we need to convert it into numerical type."
   ],
   "metadata": {
    "id": "DdDMFpLp88al"
   }
  },
  {
   "cell_type": "code",
   "execution_count": 10,
   "source": [
    "data.dtypes"
   ],
   "outputs": [
    {
     "output_type": "execute_result",
     "data": {
      "text/plain": [
       "class                       object\n",
       "cap-shape                   object\n",
       "cap-surface                 object\n",
       "cap-color                   object\n",
       "bruises                     object\n",
       "odor                        object\n",
       "gill-attachment             object\n",
       "gill-spacing                object\n",
       "gill-size                   object\n",
       "gill-color                  object\n",
       "stalk-shape                 object\n",
       "stalk-root                  object\n",
       "stalk-surface-above-ring    object\n",
       "stalk-surface-below-ring    object\n",
       "stalk-color-above-ring      object\n",
       "stalk-color-below-ring      object\n",
       "veil-type                   object\n",
       "veil-color                  object\n",
       "ring-number                 object\n",
       "ring-type                   object\n",
       "spore-print-color           object\n",
       "population                  object\n",
       "habitat                     object\n",
       "dtype: object"
      ]
     },
     "metadata": {},
     "execution_count": 10
    }
   ],
   "metadata": {
    "colab": {
     "base_uri": "https://localhost:8080/"
    },
    "id": "Fn-xW4HO8_nf",
    "outputId": "73c54b54-a02a-48ba-9eef-2690f7f308c1"
   }
  },
  {
   "cell_type": "markdown",
   "source": [
    "Use **LabelEncoder()** to encode the object data into integer."
   ],
   "metadata": {
    "id": "WsXKoM3R9qOl"
   }
  },
  {
   "cell_type": "code",
   "execution_count": 11,
   "source": [
    "label_encoder = LabelEncoder()\n",
    "for col in data.columns:\n",
    "  data[col] = label_encoder.fit_transform(data[col])"
   ],
   "outputs": [],
   "metadata": {
    "id": "6CJroHvUujmQ"
   }
  },
  {
   "cell_type": "markdown",
   "source": [
    "Examine the data to see if everything works correctly"
   ],
   "metadata": {
    "id": "Plth8te890o2"
   }
  },
  {
   "cell_type": "code",
   "execution_count": 12,
   "source": [
    "data.head()"
   ],
   "outputs": [
    {
     "output_type": "execute_result",
     "data": {
      "text/html": [
       "<div>\n",
       "<style scoped>\n",
       "    .dataframe tbody tr th:only-of-type {\n",
       "        vertical-align: middle;\n",
       "    }\n",
       "\n",
       "    .dataframe tbody tr th {\n",
       "        vertical-align: top;\n",
       "    }\n",
       "\n",
       "    .dataframe thead th {\n",
       "        text-align: right;\n",
       "    }\n",
       "</style>\n",
       "<table border=\"1\" class=\"dataframe\">\n",
       "  <thead>\n",
       "    <tr style=\"text-align: right;\">\n",
       "      <th></th>\n",
       "      <th>class</th>\n",
       "      <th>cap-shape</th>\n",
       "      <th>cap-surface</th>\n",
       "      <th>cap-color</th>\n",
       "      <th>bruises</th>\n",
       "      <th>odor</th>\n",
       "      <th>gill-attachment</th>\n",
       "      <th>gill-spacing</th>\n",
       "      <th>gill-size</th>\n",
       "      <th>gill-color</th>\n",
       "      <th>...</th>\n",
       "      <th>stalk-surface-below-ring</th>\n",
       "      <th>stalk-color-above-ring</th>\n",
       "      <th>stalk-color-below-ring</th>\n",
       "      <th>veil-type</th>\n",
       "      <th>veil-color</th>\n",
       "      <th>ring-number</th>\n",
       "      <th>ring-type</th>\n",
       "      <th>spore-print-color</th>\n",
       "      <th>population</th>\n",
       "      <th>habitat</th>\n",
       "    </tr>\n",
       "  </thead>\n",
       "  <tbody>\n",
       "    <tr>\n",
       "      <th>0</th>\n",
       "      <td>1</td>\n",
       "      <td>5</td>\n",
       "      <td>2</td>\n",
       "      <td>4</td>\n",
       "      <td>1</td>\n",
       "      <td>6</td>\n",
       "      <td>1</td>\n",
       "      <td>0</td>\n",
       "      <td>1</td>\n",
       "      <td>4</td>\n",
       "      <td>...</td>\n",
       "      <td>2</td>\n",
       "      <td>7</td>\n",
       "      <td>7</td>\n",
       "      <td>0</td>\n",
       "      <td>2</td>\n",
       "      <td>1</td>\n",
       "      <td>4</td>\n",
       "      <td>2</td>\n",
       "      <td>3</td>\n",
       "      <td>5</td>\n",
       "    </tr>\n",
       "    <tr>\n",
       "      <th>1</th>\n",
       "      <td>0</td>\n",
       "      <td>5</td>\n",
       "      <td>2</td>\n",
       "      <td>9</td>\n",
       "      <td>1</td>\n",
       "      <td>0</td>\n",
       "      <td>1</td>\n",
       "      <td>0</td>\n",
       "      <td>0</td>\n",
       "      <td>4</td>\n",
       "      <td>...</td>\n",
       "      <td>2</td>\n",
       "      <td>7</td>\n",
       "      <td>7</td>\n",
       "      <td>0</td>\n",
       "      <td>2</td>\n",
       "      <td>1</td>\n",
       "      <td>4</td>\n",
       "      <td>3</td>\n",
       "      <td>2</td>\n",
       "      <td>1</td>\n",
       "    </tr>\n",
       "    <tr>\n",
       "      <th>2</th>\n",
       "      <td>0</td>\n",
       "      <td>0</td>\n",
       "      <td>2</td>\n",
       "      <td>8</td>\n",
       "      <td>1</td>\n",
       "      <td>3</td>\n",
       "      <td>1</td>\n",
       "      <td>0</td>\n",
       "      <td>0</td>\n",
       "      <td>5</td>\n",
       "      <td>...</td>\n",
       "      <td>2</td>\n",
       "      <td>7</td>\n",
       "      <td>7</td>\n",
       "      <td>0</td>\n",
       "      <td>2</td>\n",
       "      <td>1</td>\n",
       "      <td>4</td>\n",
       "      <td>3</td>\n",
       "      <td>2</td>\n",
       "      <td>3</td>\n",
       "    </tr>\n",
       "    <tr>\n",
       "      <th>3</th>\n",
       "      <td>1</td>\n",
       "      <td>5</td>\n",
       "      <td>3</td>\n",
       "      <td>8</td>\n",
       "      <td>1</td>\n",
       "      <td>6</td>\n",
       "      <td>1</td>\n",
       "      <td>0</td>\n",
       "      <td>1</td>\n",
       "      <td>5</td>\n",
       "      <td>...</td>\n",
       "      <td>2</td>\n",
       "      <td>7</td>\n",
       "      <td>7</td>\n",
       "      <td>0</td>\n",
       "      <td>2</td>\n",
       "      <td>1</td>\n",
       "      <td>4</td>\n",
       "      <td>2</td>\n",
       "      <td>3</td>\n",
       "      <td>5</td>\n",
       "    </tr>\n",
       "    <tr>\n",
       "      <th>4</th>\n",
       "      <td>0</td>\n",
       "      <td>5</td>\n",
       "      <td>2</td>\n",
       "      <td>3</td>\n",
       "      <td>0</td>\n",
       "      <td>5</td>\n",
       "      <td>1</td>\n",
       "      <td>1</td>\n",
       "      <td>0</td>\n",
       "      <td>4</td>\n",
       "      <td>...</td>\n",
       "      <td>2</td>\n",
       "      <td>7</td>\n",
       "      <td>7</td>\n",
       "      <td>0</td>\n",
       "      <td>2</td>\n",
       "      <td>1</td>\n",
       "      <td>0</td>\n",
       "      <td>3</td>\n",
       "      <td>0</td>\n",
       "      <td>1</td>\n",
       "    </tr>\n",
       "  </tbody>\n",
       "</table>\n",
       "<p>5 rows × 23 columns</p>\n",
       "</div>"
      ],
      "text/plain": [
       "   class  cap-shape  cap-surface  cap-color  bruises  odor  gill-attachment  \\\n",
       "0      1          5            2          4        1     6                1   \n",
       "1      0          5            2          9        1     0                1   \n",
       "2      0          0            2          8        1     3                1   \n",
       "3      1          5            3          8        1     6                1   \n",
       "4      0          5            2          3        0     5                1   \n",
       "\n",
       "   gill-spacing  gill-size  gill-color  ...  stalk-surface-below-ring  \\\n",
       "0             0          1           4  ...                         2   \n",
       "1             0          0           4  ...                         2   \n",
       "2             0          0           5  ...                         2   \n",
       "3             0          1           5  ...                         2   \n",
       "4             1          0           4  ...                         2   \n",
       "\n",
       "   stalk-color-above-ring  stalk-color-below-ring  veil-type  veil-color  \\\n",
       "0                       7                       7          0           2   \n",
       "1                       7                       7          0           2   \n",
       "2                       7                       7          0           2   \n",
       "3                       7                       7          0           2   \n",
       "4                       7                       7          0           2   \n",
       "\n",
       "   ring-number  ring-type  spore-print-color  population  habitat  \n",
       "0            1          4                  2           3        5  \n",
       "1            1          4                  3           2        1  \n",
       "2            1          4                  3           2        3  \n",
       "3            1          4                  2           3        5  \n",
       "4            1          0                  3           0        1  \n",
       "\n",
       "[5 rows x 23 columns]"
      ]
     },
     "metadata": {},
     "execution_count": 12
    }
   ],
   "metadata": {
    "colab": {
     "base_uri": "https://localhost:8080/",
     "height": 274
    },
    "id": "k-SNuQEku9gN",
    "outputId": "4001e760-6bc4-4781-fd53-ad0fabf14803"
   }
  },
  {
   "cell_type": "markdown",
   "source": [
    "Let's plot and examine the data."
   ],
   "metadata": {
    "id": "AZDAZa5_-LRA"
   }
  },
  {
   "cell_type": "code",
   "execution_count": 13,
   "source": [
    "figure = plt.figure(figsize=(19 , 19))\n",
    "for i, c in enumerate(data.columns):\n",
    "  figure.add_subplot(10, 7, i+1)\n",
    "  sns.countplot(x = f\"{c}\", data=data)\n",
    "  plt.subplots_adjust(left=0.1,\n",
    "                    bottom=0, \n",
    "                    right=0.9, \n",
    "                    top=0.9, \n",
    "                    wspace=0.4, \n",
    "                    hspace=0.4)\n",
    "# plt.savefig('cat.png', format='png', dpi=1200)\n",
    "plt.show()"
   ],
   "outputs": [
    {
     "output_type": "display_data",
     "data": {
      "image/png": "[encoded data removed]",
      "text/plain": [
       "<Figure size 1368x1368 with 23 Axes>"
      ]
     },
     "metadata": {
      "needs_background": "light"
     }
    }
   ],
   "metadata": {
    "colab": {
     "base_uri": "https://localhost:8080/",
     "height": 496
    },
    "id": "7sIYqfWkvFvA",
    "outputId": "5f10262b-1b04-493d-aa10-b793eacf1383"
   }
  },
  {
   "cell_type": "markdown",
   "source": [
    "As, we can see in the above plot the column **\"veil-type\"** is of same type and not contributing much.\n",
    "So, let's drop that column"
   ],
   "metadata": {
    "id": "Y6HktZjp-XKW"
   }
  },
  {
   "cell_type": "code",
   "execution_count": 14,
   "source": [
    "data.drop('veil-type', axis=1, inplace=True)"
   ],
   "outputs": [],
   "metadata": {
    "id": "4Joqln2Y0dWB"
   }
  },
  {
   "cell_type": "markdown",
   "source": [
    "# Preparing data"
   ],
   "metadata": {
    "id": "-oLYPepsF6oo"
   }
  },
  {
   "cell_type": "markdown",
   "source": [
    "Distribute the data into features(X) and label(y)"
   ],
   "metadata": {
    "id": "Cm9KMvFDAWAV"
   }
  },
  {
   "cell_type": "code",
   "execution_count": 15,
   "source": [
    "X = data.drop('class', axis=1)\n",
    "y = data['class']"
   ],
   "outputs": [],
   "metadata": {
    "id": "MvVi6pv007zo"
   }
  },
  {
   "cell_type": "markdown",
   "source": [
    "Distribute the data into training and testing data with the help of train_test_split function"
   ],
   "metadata": {
    "id": "7f2ulc0fB9rJ"
   }
  },
  {
   "cell_type": "code",
   "execution_count": 16,
   "source": [
    "X_train, X_test, y_train, y_test = train_test_split(X, y, test_size=0.4, random_state=42)"
   ],
   "outputs": [],
   "metadata": {
    "id": "zr3NlBzL1tTS"
   }
  },
  {
   "cell_type": "markdown",
   "source": [
    "# Classification Methods"
   ],
   "metadata": {
    "id": "ICWC5TssF_1J"
   }
  },
  {
   "cell_type": "markdown",
   "source": [
    "Function to train and predict data"
   ],
   "metadata": {
    "id": "OKRElRHfKMNp"
   }
  },
  {
   "cell_type": "code",
   "execution_count": 17,
   "source": [
    "def train_and_predict(clf):\n",
    "  clf.fit(X_train, y_train)\n",
    "  pred = clf.predict(X_test)\n",
    "  return pred"
   ],
   "outputs": [],
   "metadata": {
    "id": "ZCVp747LJb-6"
   }
  },
  {
   "cell_type": "markdown",
   "source": [
    "Function to get accuracy score"
   ],
   "metadata": {
    "id": "qlBx8BZIOi-N"
   }
  },
  {
   "cell_type": "code",
   "execution_count": 18,
   "source": [
    "def train_predict_accuracy(clf):\n",
    "  pred = train_and_predict(clf)\n",
    "  return accuracy_score(y_test, pred)\n",
    "  "
   ],
   "outputs": [],
   "metadata": {
    "id": "4AilMEgfN-7m"
   }
  },
  {
   "cell_type": "markdown",
   "source": [
    "Initializing all the classifiers\n",
    "\n"
   ],
   "metadata": {
    "id": "39IcrESnIsK5"
   }
  },
  {
   "cell_type": "code",
   "execution_count": 19,
   "source": [
    "dt_clf = DecisionTreeClassifier()\n",
    "rf_clf = RandomForestClassifier()\n",
    "nb_clf = GaussianNB()\n",
    "lr_clf = LogisticRegression()\n",
    "svc_clf = SVC()\n",
    "knn_clf = KNeighborsClassifier()"
   ],
   "outputs": [],
   "metadata": {
    "id": "r1GZ2J3A1Cc0"
   }
  },
  {
   "cell_type": "markdown",
   "source": [
    "training and predicting data"
   ],
   "metadata": {
    "id": "adi8iItUG8cw"
   }
  },
  {
   "cell_type": "code",
   "execution_count": 20,
   "source": [
    "classifiers = [dt_clf, rf_clf, nb_clf, lr_clf, svc_clf, knn_clf]\n",
    "accuracy_score_dict = {}\n",
    "\n",
    "for clf in classifiers:\n",
    "  accuracy = train_predict_accuracy(clf)\n",
    "  accuracy_score_dict[clf.__class__.__name__] = accuracy"
   ],
   "outputs": [],
   "metadata": {
    "id": "LxKpv6_-2Xhr"
   }
  },
  {
   "cell_type": "code",
   "execution_count": 21,
   "source": [
    "print(\"Accuracy Score :\\n\")\n",
    "for k, v in accuracy_score_dict.items():\n",
    "  print(f\"{k} : {v * 100 :.2f}%\")"
   ],
   "outputs": [
    {
     "output_type": "stream",
     "name": "stdout",
     "text": [
      "Accuracy Score :\n",
      "\n",
      "DecisionTreeClassifier : 100.00%\n",
      "RandomForestClassifier : 100.00%\n",
      "GaussianNB : 93.02%\n",
      "LogisticRegression : 95.35%\n",
      "SVC : 98.95%\n",
      "KNeighborsClassifier : 99.66%\n"
     ]
    }
   ],
   "metadata": {
    "colab": {
     "base_uri": "https://localhost:8080/"
    },
    "id": "gozKIjhXPr8N",
    "outputId": "9b28dcfd-a74b-42b2-da83-ad9da00b9188"
   }
  },
  {
   "cell_type": "markdown",
   "source": [
    "Most classifiers provide almost 100% accuracy"
   ],
   "metadata": {
    "id": "GYJdp4KRRGVC"
   }
  },
  {
   "cell_type": "code",
   "execution_count": 22,
   "source": [
    "important_features = clf.feature_importances_\n",
    "sorted_indexes = np.argsort(important_features)\n",
    "features_list = X.columns.values"
   ],
   "outputs": [
    {
     "output_type": "error",
     "ename": "AttributeError",
     "evalue": "'KNeighborsClassifier' object has no attribute 'feature_importances_'",
     "traceback": [
      "\u001b[1;31m---------------------------------------------------------------------------\u001b[0m",
      "\u001b[1;31mAttributeError\u001b[0m                            Traceback (most recent call last)",
      "\u001b[1;32m<ipython-input-22-aff63fd53f66>\u001b[0m in \u001b[0;36m<module>\u001b[1;34m\u001b[0m\n\u001b[1;32m----> 1\u001b[1;33m \u001b[0mimportant_features\u001b[0m \u001b[1;33m=\u001b[0m \u001b[0mclf\u001b[0m\u001b[1;33m.\u001b[0m\u001b[0mfeature_importances_\u001b[0m\u001b[1;33m\u001b[0m\u001b[1;33m\u001b[0m\u001b[0m\n\u001b[0m\u001b[0;32m      2\u001b[0m \u001b[0msorted_indexes\u001b[0m \u001b[1;33m=\u001b[0m \u001b[0mnp\u001b[0m\u001b[1;33m.\u001b[0m\u001b[0margsort\u001b[0m\u001b[1;33m(\u001b[0m\u001b[0mimportant_features\u001b[0m\u001b[1;33m)\u001b[0m\u001b[1;33m\u001b[0m\u001b[1;33m\u001b[0m\u001b[0m\n\u001b[0;32m      3\u001b[0m \u001b[0mfeatures_list\u001b[0m \u001b[1;33m=\u001b[0m \u001b[0mX\u001b[0m\u001b[1;33m.\u001b[0m\u001b[0mcolumns\u001b[0m\u001b[1;33m.\u001b[0m\u001b[0mvalues\u001b[0m\u001b[1;33m\u001b[0m\u001b[1;33m\u001b[0m\u001b[0m\n",
      "\u001b[1;31mAttributeError\u001b[0m: 'KNeighborsClassifier' object has no attribute 'feature_importances_'"
     ]
    }
   ],
   "metadata": {
    "id": "CmOIFjpv2oG8"
   }
  },
  {
   "cell_type": "markdown",
   "source": [
    "Plot the feature importance"
   ],
   "metadata": {
    "id": "BpvhG4uHHdpl"
   }
  },
  {
   "cell_type": "code",
   "execution_count": null,
   "source": [
    "plt.figure(figsize=(12, 7))\n",
    "plt.barh(range(len(sorted_indexes)), important_features[sorted_indexes], align='center', color='purple')\n",
    "plt.yticks(range(len(sorted_indexes)), features_list[sorted_indexes])\n",
    "plt.xlabel(\"Importance\")\n",
    "# plt.savefig(\"feature_importance.png\", format='png', dpi=900)\n",
    "plt.show()"
   ],
   "outputs": [],
   "metadata": {
    "colab": {
     "base_uri": "https://localhost:8080/",
     "height": 442
    },
    "id": "JyBq4WvG248Z",
    "outputId": "7b8215a6-15bb-4f84-c0b3-882a8a350d47"
   }
  },
  {
   "cell_type": "markdown",
   "source": [
    "Most important feature is **\"gill-color\"**"
   ],
   "metadata": {
    "id": "qISyp8kLIaSA"
   }
  },
  {
   "cell_type": "markdown",
   "source": [
    "Some classifiers have 100% accuracy while some have 98, 93. So, let's check those classifiers whose accuracy is less than 100 with confusion matrix."
   ],
   "metadata": {
    "id": "z7tY2D0YSFM5"
   }
  },
  {
   "cell_type": "markdown",
   "source": [
    "Function to get and plot confusion matrix"
   ],
   "metadata": {
    "id": "uz9ZX57WTVjX"
   }
  },
  {
   "cell_type": "code",
   "execution_count": null,
   "source": [
    "def c_matrix(pred, name):\n",
    "  cm = confusion_matrix(y_test, pred)\n",
    "  x_axis_labels = [\"Edible\", \"Poisonous\"]\n",
    "  y_axis_labels = [\"Edible\", \"Poisonous\"]\n",
    "  f, ax = plt.subplots(figsize =(7,7))\n",
    "  sns.heatmap(cm, annot = True, linewidths=0.2, linecolor=\"black\", fmt = \".0f\", ax=ax, cmap=\"Purples\", xticklabels=x_axis_labels, yticklabels=y_axis_labels)\n",
    "  plt.xlabel(\"PREDICTED LABEL\")\n",
    "  plt.ylabel(\"TRUE LABEL\")\n",
    "  plt.title(f'Confusion Matrix of {name}');\n",
    "  plt.savefig(f\"{name}_c_matrix.png\", format='png', dpi=900, bbox_inches='tight')\n",
    "  plt.show()"
   ],
   "outputs": [],
   "metadata": {
    "id": "ijCDnSHTSWXY"
   }
  },
  {
   "cell_type": "markdown",
   "source": [
    "Confusion Matrix for GaussianNB"
   ],
   "metadata": {
    "id": "MKHTqzkeTkEe"
   }
  },
  {
   "cell_type": "code",
   "execution_count": null,
   "source": [
    "nb_pred = train_and_predict(nb_clf)\n",
    "\n",
    "c_matrix(nb_pred, 'GaussianNB')"
   ],
   "outputs": [],
   "metadata": {
    "colab": {
     "base_uri": "https://localhost:8080/",
     "height": 458
    },
    "id": "sY4pga71SofU",
    "outputId": "6e3c5e6c-7ec5-45ac-9cae-92c67d91696c"
   }
  },
  {
   "cell_type": "markdown",
   "source": [
    "Confusion Matrix for Logistic Regression"
   ],
   "metadata": {
    "id": "s0O9nfpfTpSn"
   }
  },
  {
   "cell_type": "code",
   "execution_count": null,
   "source": [
    "lr_pred = train_and_predict(lr_clf)\n",
    "\n",
    "c_matrix(lr_pred, 'LogisticReression')\n"
   ],
   "outputs": [],
   "metadata": {
    "colab": {
     "base_uri": "https://localhost:8080/",
     "height": 458
    },
    "id": "lYVPA7zmTuNq",
    "outputId": "1bdd3287-50f9-4c74-c12c-0f5114a8bb71"
   }
  },
  {
   "cell_type": "markdown",
   "source": [
    "Confusion Matrix for SVC"
   ],
   "metadata": {
    "id": "EASsCMmDUa9O"
   }
  },
  {
   "cell_type": "code",
   "execution_count": null,
   "source": [
    "svc_pred = train_and_predict(svc_clf)\n",
    "c_matrix(svc_pred, 'SVC')"
   ],
   "outputs": [],
   "metadata": {
    "colab": {
     "base_uri": "https://localhost:8080/",
     "height": 458
    },
    "id": "X-ehiinKUcMz",
    "outputId": "aea0801c-e141-4732-d115-ef69bc512154"
   }
  },
  {
   "cell_type": "markdown",
   "source": [
    "Confusion Matrix for Knn classifier"
   ],
   "metadata": {
    "id": "unQddUkWU49o"
   }
  },
  {
   "cell_type": "code",
   "execution_count": null,
   "source": [
    "knn_pred = train_and_predict(knn_clf)\n",
    "c_matrix(knn_pred, 'KNNClassifier')"
   ],
   "outputs": [],
   "metadata": {
    "colab": {
     "base_uri": "https://localhost:8080/",
     "height": 458
    },
    "id": "QYKM1xlDU4RP",
    "outputId": "84c9b189-09cf-4189-dfef-81a9607e2738"
   }
  },
  {
   "cell_type": "markdown",
   "source": [
    "# Conclusion"
   ],
   "metadata": {
    "id": "FeLlWDaOVWV0"
   }
  },
  {
   "cell_type": "markdown",
   "source": [
    "So, the best performing models are :\n",
    "\n",
    "\n",
    "*   DecisionTreeClassifier\n",
    "*   RandomForestClassifier\n",
    "\n",
    "and, the worst performing model in this case is:\n",
    "\n",
    "\n",
    "\n",
    "\n",
    "*   GaussianNB\n",
    "\n",
    "and the other models (LogisticRegression and SVC) provide pretty good accuracy.\n",
    "\n",
    "\n",
    "\n"
   ],
   "metadata": {
    "id": "LWYwfSbyVaWf"
   }
  }
 ],
 "metadata": {
  "colab": {
   "collapsed_sections": [],
   "name": "mushroom.ipynb",
   "provenance": []
  },
  "interpreter": {
   "hash": "c847c6e972454b29a089ff441ac7748bdb3ebfe236f9ff01197d59c725715b4d"
  },
  "kernelspec": {
   "name": "python3",
   "display_name": "Python 3.9.4 64-bit"
  },
  "language_info": {
   "codemirror_mode": {
    "name": "ipython",
    "version": 3
   },
   "file_extension": ".py",
   "mimetype": "text/x-python",
   "name": "python",
   "nbconvert_exporter": "python",
   "pygments_lexer": "ipython3",
   "version": "3.9.4"
  }
 },
 "nbformat": 4,
 "nbformat_minor": 4
}